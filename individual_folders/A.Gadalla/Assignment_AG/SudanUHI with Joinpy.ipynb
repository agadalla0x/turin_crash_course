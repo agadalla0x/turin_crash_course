{
 "cells": [
  {
   "cell_type": "code",
   "execution_count": 7,
   "metadata": {
    "vscode": {
     "languageId": "shellscript"
    }
   },
   "outputs": [
    {
     "name": "stdout",
     "output_type": "stream",
     "text": [
      "Searching for: City=Khartoum, Country=Sudan\n",
      "Searching for: City=Omdurman, Country=Sudan\n",
      "Searching for: City=Al Mijlad, Country=Sudan\n",
      "Searching for: City=Khartoum North, Country=Sudan\n",
      "Searching for: City=Port Sudan, Country=Sudan\n",
      "Searching for: City=El Geneina, Country=Sudan\n",
      "Searching for: City=Kassala, Country=Sudan\n",
      "Searching for: City=El Fasher, Country=Sudan\n",
      "Searching for: City=Nyala, Country=Sudan\n",
      "Searching for: City=El Obeid, Country=Sudan\n",
      "Searching for: City=Gedaref, Country=Sudan\n",
      "Searching for: City=Wad Medani, Country=Sudan\n",
      "Searching for: City=Kusti, Country=Sudan\n",
      "Searching for: City=Ed Daein, Country=Sudan\n",
      "Searching for: City=Singa, Country=Sudan\n",
      "Searching for: City=Kurmuk, Country=Sudan\n",
      "Searching for: City=Ar Ruseris, Country=Sudan\n",
      "Searching for: City=Ed Damazin, Country=Sudan\n",
      "Searching for: City=Al Manaqil, Country=Sudan\n",
      "Searching for: City=Sannar, Country=Sudan\n",
      "Searching for: City=Atbara, Country=Sudan\n",
      "Searching for: City=Ed Damer, Country=Sudan\n",
      "Searching for: City=An Nuhud, Country=Sudan\n",
      "Searching for: City=Kadugli, Country=Sudan\n",
      "Searching for: City=Ad Diwem, Country=Sudan\n",
      "Searching for: City=Dongola, Country=Sudan\n",
      "Searching for: City=Umm Ruwaba, Country=Sudan\n",
      "Searching for: City=Shendi, Country=Sudan\n",
      "Searching for: City=Ad Dabbah, Country=Sudan\n",
      "Searching for: City=Abu Hamad, Country=Sudan\n",
      "Searching for: City=Kutum, Country=Sudan\n",
      "Searching for: City=Sawakin, Country=Sudan\n",
      "Searching for: City=Tokar, Country=Sudan\n",
      "Searching for: City=Zalingei, Country=Sudan\n",
      "Searching for: City=Al Qitena, Country=Sudan\n",
      "Searching for: City=Babanusah, Country=Sudan\n",
      "xargs: unmatched single quote; by default quotes are special to xargs unless you use the -0 option\n",
      "Searching for: City=Wadi, Country=Sudan\n",
      "Searching for: City=Berber, Country=Sudan\n",
      "Searching for: City=Kuraymah, Country=Sudan\n",
      "Searching for: City=Umm Badr, Country=Sudan\n",
      "Searching for: City=Marawi, Country=Sudan\n",
      "Searching for: City=Karmah an Nuzul, Country=Sudan\n",
      "Searching for: City=Haya, Country=Sudan\n",
      "Searching for: City=Rabak, Country=Sudan\n",
      "Searching for: City=El Fula, Country=Sudan\n"
     ]
    }
   ],
   "source": [
    "#!/bin/bash\n",
    "\n",
    "# Read CSV from Patch\n",
    "CSV_FILE=\"/workspaces/ByteMe/ICT4D/CrashCourse1/Assignment/SudanCities.csv\"\n",
    "echo \"lat,lon,addresstype,name\" > Sudan_nominatim.csv\n",
    "# Read the CSV line by line, skipping the header\n",
    "tail -n +2 \"$CSV_FILE\" | while IFS=, read -r city country lat lng other_fields\n",
    "do\n",
    "    # Trim potential whitespace around city and country\n",
    "    city=$(echo \"$city\" | xargs)\n",
    "    country=$(echo \"$country\" | xargs)\n",
    "\n",
    "    # URL encode city names that include spaces\n",
    "    city_encoded=$(echo \"$city\" | sed 's/ /%20/g')\n",
    "\n",
    "    # Display search information\n",
    "    echo \"Searching for: City=$city, Country=$country\"\n",
    "\n",
    "    # Use curl to make the API request and parse the output with jq\n",
    "    curl -s \"https://nominatim.openstreetmap.org/search?q=$city_encoded,$country&format=json\" | \\\n",
    "    jq '.[] | [.lat, .lon, .addresstype, .name] | join(\",\")' >> Sudan_nominatim.csv\n",
    "\n",
    "    # Optional: sleep to avoid hitting the API rate limit\n",
    "    sleep 1\n",
    "done\n"
   ]
  },
  {
   "cell_type": "code",
   "execution_count": 1,
   "metadata": {
    "vscode": {
     "languageId": "shellscript"
    }
   },
   "outputs": [
    {
     "name": "stdout",
     "output_type": "stream",
     "text": [
      "     latitude  longitude  total_precipitation\n",
      "0   15.563597  32.534912                 32.6\n",
      "1   15.603086  32.526223                 32.6\n",
      "2   15.644554  32.477731                 32.6\n",
      "3   11.783333  30.916667                297.3\n",
      "4   12.416512  34.296468                295.0\n",
      "..        ...        ...                  ...\n",
      "80  13.184465  32.739806                123.2\n",
      "81  11.800000  28.400000                235.0\n",
      "82  12.949878  31.925051                102.6\n",
      "83  14.766667  33.633333                 96.4\n",
      "84  11.710485  28.344898                235.0\n",
      "\n",
      "[85 rows x 3 columns]\n",
      "Data saved to /workspaces/ByteMe/ICT4D/CrashCourse1/Assignment/Sudan-OpenMeteo2023.csv\n"
     ]
    }
   ],
   "source": [
    "import pandas as pd\n",
    "import requests\n",
    "\n",
    "# Load the CSV file into a DataFrame\n",
    "file_path = '/workspaces/ByteMe/ICT4D/CrashCourse1/Assignment/Sudan-nominatim-Openrefine.csv'  # Update the path to your CSV file\n",
    "data = pd.read_csv(file_path)\n",
    "\n",
    "# Function to fetch weather data\n",
    "def fetch_weather_data(lat, lon):\n",
    "    url = f\"https://previous-runs-api.open-meteo.com/v1/forecast?latitude={lat}&longitude={lon}&hourly=precipitation&start_date=2023-01-01&end_date=2023-12-31\"\n",
    "    response = requests.get(url)\n",
    "    if response.status_code == 200:\n",
    "        return response.json()\n",
    "    else:\n",
    "        return None\n",
    "\n",
    "# Iterate over DataFrame rows and fetch weather data for each\n",
    "results = []\n",
    "for index, row in data.iterrows():\n",
    "    json_response = fetch_weather_data(row['lat'], row['lon'])\n",
    "    if json_response:\n",
    "        # Extract hourly precipitation data and calculate the sum\n",
    "        precipitation = json_response.get('hourly', {}).get('precipitation', [])\n",
    "        total_precipitation = sum(precipitation)\n",
    "        results.append({\n",
    "            'latitude': row['lat'],\n",
    "            'longitude': row['lon'],\n",
    "            'total_precipitation': total_precipitation\n",
    "        })\n",
    "    else:\n",
    "        results.append({\n",
    "            'latitude': row['lat'],\n",
    "            'longitude': row['lon'],\n",
    "            'total_precipitation': 'Failed to fetch data'\n",
    "        })\n",
    "\n",
    "# Convert results to DataFrame for better visualization\n",
    "results_df = pd.DataFrame(results)\n",
    "print(results_df)\n",
    "# Save results to a CSV file\n",
    "output_file_path = '/workspaces/ByteMe/ICT4D/CrashCourse1/Assignment/Sudan-OpenMeteo2023.csv'  # Define the output file path\n",
    "results_df.to_csv(output_file_path, index=False)\n",
    "print(f\"Data saved to {output_file_path}\")"
   ]
  },
  {
   "cell_type": "code",
   "execution_count": 11,
   "metadata": {
    "vscode": {
     "languageId": "shellscript"
    }
   },
   "outputs": [],
   "source": [
    "#Merge | Join Sudan files to have a full table with more data to use via Bi or GIS\n",
    "\n",
    "import pandas as pd\n",
    "\n",
    "Data1 = pd.read_csv('/workspaces/ByteMe/ICT4D/CrashCourse1/Assignment/Sudan_nominatim.csv')\n",
    "Data2 = pd.read_csv('/workspaces/ByteMe/ICT4D/CrashCourse1/Assignment/Sudan-OpenMeteo2023.csv')\n",
    "\n",
    "# Merge the DataFrames on a common column, e.g., 'user_id'\n",
    "merged_df = pd.merge(Data1, Data2, on=['lat','lon'], how='left')\n",
    "\n",
    "# Save the merged DataFrame to a new CSV file\n",
    "\n",
    "merged_df.to_csv('/workspaces/ByteMe/ICT4D/CrashCourse1/Assignment/SudanMerged.csv', index=False)\n",
    "\n"
   ]
  }
 ],
 "metadata": {
  "kernelspec": {
   "display_name": "Python 3",
   "language": "python",
   "name": "python3"
  },
  "language_info": {
   "codemirror_mode": {
    "name": "ipython",
    "version": 3
   },
   "file_extension": ".py",
   "mimetype": "text/x-python",
   "name": "python",
   "nbconvert_exporter": "python",
   "pygments_lexer": "ipython3",
   "version": "3.10.13"
  }
 },
 "nbformat": 4,
 "nbformat_minor": 2
}
